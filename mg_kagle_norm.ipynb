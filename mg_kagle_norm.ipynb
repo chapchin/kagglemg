{
 "cells": [
  {
   "cell_type": "markdown",
   "metadata": {},
   "source": [
    "Импорты"
   ]
  },
  {
   "cell_type": "code",
   "execution_count": 1,
   "metadata": {},
   "outputs": [],
   "source": [
    "#Импортирование библиотек\n",
    "import pandas as pd \n",
    "import numpy as np\n",
    "import matplotlib.pyplot as plt\n",
    "import seaborn as sns\n",
    "import re\n",
    "import string\n",
    "from collections import Counter\n",
    "import sklearn\n",
    "from sklearn.model_selection import GridSearchCV, train_test_split, ShuffleSplit, KFold\n",
    "import xgboost as xgb\n",
    "from sklearn.metrics import classification_report, confusion_matrix, log_loss\n",
    "import py7zr\n",
    "from sklearn.naive_bayes import GaussianNB\n",
    "from sklearn.neighbors import KNeighborsClassifier\n",
    "from sklearn import svm\n",
    "from sklearn.preprocessing import MinMaxScaler\n",
    "from sklearn.ensemble import RandomForestClassifier\n",
    "from sklearn.datasets import make_classification\n",
    "from sklearn.linear_model import SGDClassifier\n",
    "from sklearn.ensemble import GradientBoostingRegressor\n",
    "import xgboost as xgb\n",
    "from xgboost import XGBClassifier\n",
    "from xgboost import DMatrix\n",
    "from xgboost import plot_importance\n",
    "from sklearn.metrics import f1_score"
   ]
  },
  {
   "cell_type": "markdown",
   "metadata": {},
   "source": [
    "Загружаю данные"
   ]
  },
  {
   "cell_type": "code",
   "execution_count": 2,
   "metadata": {},
   "outputs": [],
   "source": [
    "data = pd.read_csv('contest_train.csv.zip')"
   ]
  },
  {
   "cell_type": "code",
   "execution_count": 3,
   "metadata": {},
   "outputs": [],
   "source": [
    "#data.describe()"
   ]
  },
  {
   "cell_type": "code",
   "execution_count": 4,
   "metadata": {},
   "outputs": [],
   "source": [
    "y = data.iloc[:,1]\n",
    "x=data.iloc[:,2:]"
   ]
  },
  {
   "cell_type": "code",
   "execution_count": 5,
   "metadata": {},
   "outputs": [],
   "source": [
    "#меняю пропуски на median\n",
    "#сейчас на 0 x=x.fillna(0) 0.45894617562721157\n",
    "#x=x.fillna(x.median())\n",
    "#сейчас на моду 0.460795827888902\n",
    "x=x.fillna(x.mode())\n",
    "#тут выкидываю 3 5 249\n",
    "#x=x.drop (columns = ['FEATURE_3', 'FEATURE_5', 'FEATURE_249']) \n",
    "#0.460795827888902 дропать нет толку\n",
    "#x.head()"
   ]
  },
  {
   "cell_type": "code",
   "execution_count": 6,
   "metadata": {},
   "outputs": [],
   "source": [
    "train_x, test_x, train_y, test_y =  train_test_split(x, y, test_size=0.2, random_state=42)"
   ]
  },
  {
   "cell_type": "markdown",
   "metadata": {},
   "source": [
    "Делаем поиск оптимальных гиперпараметров\n"
   ]
  },
  {
   "cell_type": "code",
   "execution_count": 7,
   "metadata": {},
   "outputs": [
    {
     "data": {
      "text/plain": [
       "\"def score_func(estimator, x, y):\\n    ntree_limit=estimator.get_booster().best_ntree_limit\\n    score1 = log_loss(y, estimator.predict(x, ntree_limit), labels=list(range(3)))\\n    return -score1\\n\\nxgb = XGBClassifier(\\n    objective = 'multi:softprob',\\n    eval_metric = 'mlogloss',\\n    num_class = 3,\\n    #nthread=4,\\n    seed=10\\n)\\n\\nparameters = {\\n    'max_depth': range (5, 6, 1), #(4, 7, 1),\\n    'learning_rate': [0.01], #[0.1, 0.01, 0.05]\\n    'eta': [0.1], #'eta': [0.1, 0.2, 0.3]\\n    'alpha': [0],\\n    'lambda': [1]\\n}\\n\\ngrid_search = GridSearchCV(\\n    estimator=xgb,\\n    param_grid=parameters,\\n    scoring = score_func,\\n    n_jobs = 10,\\n    cv = 3,\\n    verbose=True\\n)\\n\\ngrid_search.fit(train_x, train_y)\\n\""
      ]
     },
     "execution_count": 7,
     "metadata": {},
     "output_type": "execute_result"
    }
   ],
   "source": [
    "\"\"\"def score_func(estimator, x, y):\n",
    "    ntree_limit=estimator.get_booster().best_ntree_limit\n",
    "    score1 = log_loss(y, estimator.predict(x, ntree_limit), labels=list(range(3)))\n",
    "    return -score1\n",
    "\n",
    "xgb = XGBClassifier(\n",
    "    objective = 'multi:softprob',\n",
    "    eval_metric = 'mlogloss',\n",
    "    num_class = 3,\n",
    "    #nthread=4,\n",
    "    seed=10\n",
    ")\n",
    "\n",
    "parameters = {\n",
    "    'max_depth': range (5, 6, 1), #(4, 7, 1),\n",
    "    'learning_rate': [0.01], #[0.1, 0.01, 0.05]\n",
    "    'eta': [0.1], #'eta': [0.1, 0.2, 0.3]\n",
    "    'alpha': [0],\n",
    "    'lambda': [1]\n",
    "}\n",
    "\n",
    "grid_search = GridSearchCV(\n",
    "    estimator=xgb,\n",
    "    param_grid=parameters,\n",
    "    scoring = score_func,\n",
    "    n_jobs = 10,\n",
    "    cv = 3,\n",
    "    verbose=True\n",
    ")\n",
    "\n",
    "grid_search.fit(train_x, train_y)\n",
    "\"\"\""
   ]
  },
  {
   "cell_type": "code",
   "execution_count": 8,
   "metadata": {},
   "outputs": [],
   "source": [
    "#print(grid_search.best_params_)"
   ]
  },
  {
   "cell_type": "code",
   "execution_count": 25,
   "metadata": {},
   "outputs": [
    {
     "name": "stdout",
     "output_type": "stream",
     "text": [
      "[0]\ttrain-mlogloss:2.44066+0.00106\ttest-mlogloss:2.45080+0.00224\n",
      "[100]\ttrain-mlogloss:0.41491+0.00463\ttest-mlogloss:0.65219+0.00802\n"
     ]
    }
   ],
   "source": [
    "xgb_param = {\n",
    "          'booster': 'dart',\n",
    "          #booster = \"gbtree\", #0.4647882548794115\n",
    "          'objective': 'multi:softprob',\n",
    "             #multi:softmax - можно попробовать - меняй в 2х местах\n",
    "             #multi:softmax: set XGBoost to do multiclass classification using \n",
    "             #the softmax objective, you also need to set num_class(number of classes)\n",
    "          'eval_metric' : 'mlogloss',\n",
    "          'learning_rate' : 0.1,#0.05 - 0.4560421055871875 такое-лучше: 0.01\n",
    "          'max_depth' : 5,\n",
    "            # 9-0.4635205623123519\n",
    "            # 3-0.4501095475496298\n",
    "            # 10-0.4649517513067532\n",
    "          'num_class' : 20, #9 - 0.4560421055871875 3-0.4564400840387614 9-0.45894617562721157\n",
    "          #'nthread': 4,\n",
    "          'subsample': 0.5,\n",
    "          #'eta': 0.01, #0.4647882548794115 !лучше такое однозначно\n",
    "          'eta': 0.1, #0.4647882548794115\n",
    "          'alpha': 0,\n",
    "          'lambda': 1,\n",
    "          'gamma': 0.01, #просто пробую её выставить\n",
    "          'seed': 10}\n",
    "\n",
    "dtrain_xgb = xgb.DMatrix(train_x, label=train_y)\n",
    "\n",
    "xbg_result = xgb.cv(xgb_param, \n",
    "                    dtrain_xgb, \n",
    "                    num_boost_round=3000, #300 600?\n",
    "                    nfold=3,\n",
    "                    stratified=True, \n",
    "                    early_stopping_rounds=50, \n",
    "                    verbose_eval=100, \n",
    "                    show_stdv=True)"
   ]
  },
  {
   "cell_type": "code",
   "execution_count": 26,
   "metadata": {},
   "outputs": [
    {
     "name": "stdout",
     "output_type": "stream",
     "text": [
      "num boost rounds xgb=121\n"
     ]
    }
   ],
   "source": [
    "num_round_xgb = len(xbg_result['test-mlogloss-mean'])\n",
    "print('num boost rounds xgb=' + str(num_round_xgb))"
   ]
  },
  {
   "cell_type": "code",
   "execution_count": 27,
   "metadata": {},
   "outputs": [],
   "source": [
    "xgb_cl = xgb.train(xgb_param, dtrain_xgb, num_boost_round=num_round_xgb)"
   ]
  },
  {
   "cell_type": "code",
   "execution_count": 28,
   "metadata": {},
   "outputs": [],
   "source": [
    "xgtest = xgb.DMatrix(test_x)\n",
    "y_pred8 = xgb_cl.predict(xgtest)"
   ]
  },
  {
   "cell_type": "code",
   "execution_count": 29,
   "metadata": {},
   "outputs": [
    {
     "data": {
      "text/plain": [
       "0.4695226792212739"
      ]
     },
     "execution_count": 29,
     "metadata": {},
     "output_type": "execute_result"
    }
   ],
   "source": [
    "best_preds = np.asarray([np.argmax(line) for line in y_pred8])\n",
    "f1_score(test_y, best_preds, average='macro')"
   ]
  },
  {
   "cell_type": "code",
   "execution_count": 33,
   "metadata": {},
   "outputs": [],
   "source": [
    "#подставить в нумкласс 9-ку 0.45894617562721157 -бред, но работает пока\n",
    "#dart !! писец долго считает - дождусь, пока пишу загадочный параметр\n",
    "# и ещё загадочный параметр построй его по примерам !\n",
    "#лёрнинг рейт вернуть 0.05 - просто ускорение, но не качество\n",
    "#multi:softmax: !!! там не забудь макс исправить!"
   ]
  },
  {
   "cell_type": "markdown",
   "metadata": {},
   "source": [
    "Загрузка файла для ответов"
   ]
  },
  {
   "cell_type": "code",
   "execution_count": 65,
   "metadata": {},
   "outputs": [],
   "source": [
    "data_pred = pd.read_csv('contest_test.csv.zip')"
   ]
  },
  {
   "cell_type": "code",
   "execution_count": 67,
   "metadata": {},
   "outputs": [],
   "source": [
    "x_pred=data_pred.iloc[:,1:]"
   ]
  },
  {
   "cell_type": "markdown",
   "metadata": {},
   "source": [
    " Предсказание классов"
   ]
  },
  {
   "cell_type": "code",
   "execution_count": 68,
   "metadata": {},
   "outputs": [],
   "source": [
    "xgpred = xgb.DMatrix(x_pred)\n",
    "y_pred = xgb_cl.predict(xgpred)\n",
    "Predicted=np.asarray([np.argmax(line) for line in y_pred])"
   ]
  },
  {
   "cell_type": "markdown",
   "metadata": {},
   "source": [
    "Делаю и пишу выходные данные"
   ]
  },
  {
   "cell_type": "code",
   "execution_count": 71,
   "metadata": {},
   "outputs": [],
   "source": [
    "data_pred['Predicted']=Predicted"
   ]
  },
  {
   "cell_type": "code",
   "execution_count": 73,
   "metadata": {},
   "outputs": [],
   "source": [
    "data_pred.to_csv('data1.csv', index=False, columns =['ID','Predicted'])"
   ]
  },
  {
   "cell_type": "code",
   "execution_count": null,
   "metadata": {},
   "outputs": [],
   "source": []
  },
  {
   "cell_type": "markdown",
   "metadata": {},
   "source": [
    "Веса для классов в DMatrix - пробую"
   ]
  },
  {
   "cell_type": "code",
   "execution_count": null,
   "metadata": {},
   "outputs": [],
   "source": []
  }
 ],
 "metadata": {
  "kernelspec": {
   "display_name": "Python 3",
   "language": "python",
   "name": "python3"
  },
  "language_info": {
   "codemirror_mode": {
    "name": "ipython",
    "version": 3
   },
   "file_extension": ".py",
   "mimetype": "text/x-python",
   "name": "python",
   "nbconvert_exporter": "python",
   "pygments_lexer": "ipython3",
   "version": "3.7.9"
  }
 },
 "nbformat": 4,
 "nbformat_minor": 4
}
