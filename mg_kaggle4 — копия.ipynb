{
 "cells": [
  {
   "cell_type": "markdown",
   "metadata": {},
   "source": [
    "Импорты"
   ]
  },
  {
   "cell_type": "code",
   "execution_count": 70,
   "metadata": {},
   "outputs": [],
   "source": [
    "#Импортирование библиотек\n",
    "import pandas as pd \n",
    "import numpy as np\n",
    "import matplotlib.pyplot as plt\n",
    "import seaborn as sns\n",
    "import re\n",
    "import string\n",
    "from collections import Counter\n",
    "import sklearn\n",
    "from sklearn.model_selection import GridSearchCV, train_test_split, ShuffleSplit, KFold\n",
    "import xgboost as xgb\n",
    "from sklearn.metrics import classification_report, confusion_matrix, log_loss\n",
    "import py7zr\n",
    "from sklearn.naive_bayes import GaussianNB\n",
    "from sklearn.neighbors import KNeighborsClassifier\n",
    "from sklearn import svm\n",
    "from sklearn.preprocessing import MinMaxScaler\n",
    "from sklearn.ensemble import RandomForestClassifier\n",
    "from sklearn.datasets import make_classification\n",
    "from sklearn.linear_model import SGDClassifier\n",
    "from sklearn.ensemble import GradientBoostingRegressor\n",
    "import xgboost as xgb\n",
    "from xgboost import XGBClassifier\n",
    "from xgboost import DMatrix\n",
    "from xgboost import plot_importance\n",
    "from sklearn.metrics import f1_score\n",
    "from sklearn.utils import class_weight"
   ]
  },
  {
   "cell_type": "markdown",
   "metadata": {},
   "source": [
    "Загружаю данные"
   ]
  },
  {
   "cell_type": "code",
   "execution_count": 71,
   "metadata": {},
   "outputs": [],
   "source": [
    "data = pd.read_csv('contest_train.csv.zip')"
   ]
  },
  {
   "cell_type": "code",
   "execution_count": 72,
   "metadata": {},
   "outputs": [],
   "source": [
    "#data.describe()"
   ]
  },
  {
   "cell_type": "code",
   "execution_count": 73,
   "metadata": {},
   "outputs": [],
   "source": [
    "y = data.iloc[:,1]\n",
    "x=data.iloc[:,2:]"
   ]
  },
  {
   "cell_type": "code",
   "execution_count": 74,
   "metadata": {},
   "outputs": [],
   "source": [
    "#меняю пропуски на median\n",
    "#сейчас на 0 x=x.fillna(0) 0.45894617562721157\n",
    "#x=x.fillna(x.median())\n",
    "#сейчас на моду 0.460795827888902\n",
    "x=x.fillna(x.mode())\n",
    "#тут выкидываю 3 5 249\n",
    "#x=x.drop (columns = ['FEATURE_3', 'FEATURE_5', 'FEATURE_249']) \n",
    "#0.460795827888902 дропать нет толку\n",
    "#x.head()"
   ]
  },
  {
   "cell_type": "code",
   "execution_count": 75,
   "metadata": {},
   "outputs": [],
   "source": [
    "#*******\n",
    "train_x, test_x, train_y, test_y =  train_test_split(x, y, test_size=0.2, random_state=42)"
   ]
  },
  {
   "cell_type": "markdown",
   "metadata": {},
   "source": [
    "Тут будем считать веса для тренировки модели"
   ]
  },
  {
   "cell_type": "code",
   "execution_count": 76,
   "metadata": {},
   "outputs": [
    {
     "data": {
      "text/plain": [
       "0    0.708454\n",
       "1    0.230415\n",
       "2    0.061131\n",
       "Name: TARGET, dtype: float64"
      ]
     },
     "execution_count": 76,
     "metadata": {},
     "output_type": "execute_result"
    }
   ],
   "source": [
    "# алгоритм меньшее делим на каждое - получаем от 1 и ниже. \n",
    "#их выставляем соответствующим в талице целям\n",
    "y.value_counts(normalize=True)"
   ]
  },
  {
   "cell_type": "code",
   "execution_count": 61,
   "metadata": {},
   "outputs": [],
   "source": [
    "#v=[0.08601275287080664729283638518184,0.26489666288683532534789654558172,1.0] это для тест-трайн\n",
    "v=[0.08628788883964237621638102120956,0.26530824816092702298027472169781,1.0]"
   ]
  },
  {
   "cell_type": "code",
   "execution_count": 77,
   "metadata": {},
   "outputs": [],
   "source": [
    "# СЮДА СЧЁТ ВЕСОВ\n",
    "#w_array = np.ones(train_y.shape[0], dtype = 'float')\n",
    "w_array = np.ones(y.shape[0], dtype = 'float')\n",
    "#for i, val in enumerate(train_y):\n",
    "for i, val in enumerate(y):\n",
    "    w_array[i] = v[val]"
   ]
  },
  {
   "cell_type": "markdown",
   "metadata": {},
   "source": [
    "Делаем поиск оптимальных гиперпараметров\n"
   ]
  },
  {
   "cell_type": "code",
   "execution_count": 78,
   "metadata": {},
   "outputs": [
    {
     "data": {
      "text/plain": [
       "\"def score_func(estimator, x, y):\\n    ntree_limit=estimator.get_booster().best_ntree_limit\\n    score1 = log_loss(y, estimator.predict(x, ntree_limit), labels=list(range(3)))\\n    return -score1\\n\\nxgb = XGBClassifier(\\n    objective = 'multi:softprob',\\n    eval_metric = 'mlogloss',\\n    num_class = 3,\\n    #nthread=4,\\n    seed=10\\n)\\n\\nparameters = {\\n    'max_depth': range (5, 6, 1), #(4, 7, 1),\\n    'learning_rate': [0.01], #[0.1, 0.01, 0.05]\\n    'eta': [0.1], #'eta': [0.1, 0.2, 0.3]\\n    'alpha': [0],\\n    'lambda': [1]\\n}\\n\\ngrid_search = GridSearchCV(\\n    estimator=xgb,\\n    param_grid=parameters,\\n    scoring = score_func,\\n    n_jobs = 10,\\n    cv = 3,\\n    verbose=True\\n)\\n\\ngrid_search.fit(train_x, train_y)\\n\""
      ]
     },
     "execution_count": 78,
     "metadata": {},
     "output_type": "execute_result"
    }
   ],
   "source": [
    "#https://xgboost.readthedocs.io/en/latest/parameter.html?highlight=num_class\n",
    "#http://biostat-r.blogspot.com/2016/08/xgboost.html\n",
    "\"\"\"def score_func(estimator, x, y):\n",
    "    ntree_limit=estimator.get_booster().best_ntree_limit\n",
    "    score1 = log_loss(y, estimator.predict(x, ntree_limit), labels=list(range(3)))\n",
    "    return -score1\n",
    "\n",
    "xgb = XGBClassifier(\n",
    "    objective = 'multi:softprob',\n",
    "    eval_metric = 'mlogloss',\n",
    "    num_class = 3,\n",
    "    #nthread=4,\n",
    "    seed=10\n",
    ")\n",
    "\n",
    "parameters = {\n",
    "    'max_depth': range (5, 6, 1), #(4, 7, 1),\n",
    "    'learning_rate': [0.01], #[0.1, 0.01, 0.05]\n",
    "    'eta': [0.1], #'eta': [0.1, 0.2, 0.3]\n",
    "    'alpha': [0],\n",
    "    'lambda': [1]\n",
    "}\n",
    "\n",
    "grid_search = GridSearchCV(\n",
    "    estimator=xgb,\n",
    "    param_grid=parameters,\n",
    "    scoring = score_func,\n",
    "    n_jobs = 10,\n",
    "    cv = 3,\n",
    "    verbose=True\n",
    ")\n",
    "\n",
    "grid_search.fit(train_x, train_y)\n",
    "\"\"\""
   ]
  },
  {
   "cell_type": "code",
   "execution_count": 79,
   "metadata": {},
   "outputs": [],
   "source": [
    "#print(grid_search.best_params_)"
   ]
  },
  {
   "cell_type": "code",
   "execution_count": 83,
   "metadata": {},
   "outputs": [
    {
     "name": "stdout",
     "output_type": "stream",
     "text": [
      "[0]\ttrain-mlogloss:1.08245+0.00044\ttest-mlogloss:1.08518+0.00063\n",
      "[100]\ttrain-mlogloss:0.66750+0.00483\ttest-mlogloss:0.85639+0.01392\n"
     ]
    }
   ],
   "source": [
    "xgb_param = {\n",
    "          'booster': 'gbtree',\n",
    "          'objective': 'multi:softprob',\n",
    "          'eval_metric' : 'mlogloss',\n",
    "          'learning_rate' : 0.05,\n",
    "          'max_depth' : 5,\n",
    "          'num_class' : 3,\n",
    "          'nthread': 4,\n",
    "          'subsample': 0.5,\n",
    "          'colsample_bytree': 0.8,\n",
    "          'eta': 0.07,\n",
    "          'alpha': 0,\n",
    "          'lambda': 1,\n",
    "          'gamma': 0.01,\n",
    "          'seed': 10}\n",
    "\n",
    "#dtrain_xgb = xgb.DMatrix(train_x, label=train_y) #*******\n",
    "dtrain_xgb = xgb.DMatrix(x, label=y, weight = w_array)\n",
    "\n",
    "xbg_result = xgb.cv(xgb_param, \n",
    "                    dtrain_xgb, \n",
    "                    num_boost_round=3000, #300 600?\n",
    "                    nfold=3,\n",
    "                    stratified=True, \n",
    "                    early_stopping_rounds=50, \n",
    "                    verbose_eval=100, \n",
    "                    show_stdv=True)"
   ]
  },
  {
   "cell_type": "code",
   "execution_count": 84,
   "metadata": {},
   "outputs": [
    {
     "name": "stdout",
     "output_type": "stream",
     "text": [
      "num boost rounds xgb=128\n"
     ]
    }
   ],
   "source": [
    "num_round_xgb = len(xbg_result['test-mlogloss-mean'])\n",
    "print('num boost rounds xgb=' + str(num_round_xgb))"
   ]
  },
  {
   "cell_type": "code",
   "execution_count": 85,
   "metadata": {},
   "outputs": [],
   "source": [
    "xgb_cl = xgb.train(xgb_param, dtrain_xgb, num_boost_round=num_round_xgb)"
   ]
  },
  {
   "cell_type": "code",
   "execution_count": 86,
   "metadata": {},
   "outputs": [],
   "source": [
    "#*******\n",
    "#xgtest = xgb.DMatrix(test_x)\n",
    "#y_pred8 = xgb_cl.predict(xgtest)"
   ]
  },
  {
   "cell_type": "code",
   "execution_count": 87,
   "metadata": {},
   "outputs": [],
   "source": [
    "#*******\n",
    "#best_preds = np.asarray([np.argmax(line) for line in y_pred8])\n",
    "#f1_score(test_y, best_preds, average='macro')"
   ]
  },
  {
   "cell_type": "code",
   "execution_count": 88,
   "metadata": {},
   "outputs": [],
   "source": [
    "#подставить в нумкласс 9-ку 0.45894617562721157 -бред, но работает пока\n",
    "#dart !! писец долго считает - дождусь, пока пишу загадочный параметр\n",
    "# и ещё загадочный параметр построй его по примерам !\n",
    "#лёрнинг рейт вернуть 0.05 - просто ускорение, но не качество\n",
    "#multi:softmax: !!! там не забудь макс исправить! "
   ]
  },
  {
   "cell_type": "markdown",
   "metadata": {},
   "source": [
    "Загрузка файла для ответов"
   ]
  },
  {
   "cell_type": "code",
   "execution_count": 89,
   "metadata": {},
   "outputs": [],
   "source": [
    "data_pred = pd.read_csv('contest_test.csv.zip')"
   ]
  },
  {
   "cell_type": "code",
   "execution_count": 90,
   "metadata": {},
   "outputs": [],
   "source": [
    "x_pred=data_pred.iloc[:,1:]"
   ]
  },
  {
   "cell_type": "markdown",
   "metadata": {},
   "source": [
    " Предсказание классов"
   ]
  },
  {
   "cell_type": "code",
   "execution_count": 91,
   "metadata": {},
   "outputs": [],
   "source": [
    "xgpred = xgb.DMatrix(x_pred)\n",
    "y_pred = xgb_cl.predict(xgpred)\n",
    "Predicted=np.asarray([np.argmax(line) for line in y_pred])"
   ]
  },
  {
   "cell_type": "markdown",
   "metadata": {},
   "source": [
    "Делаю и пишу выходные данные"
   ]
  },
  {
   "cell_type": "code",
   "execution_count": 92,
   "metadata": {},
   "outputs": [],
   "source": [
    "data_pred['Predicted']=Predicted"
   ]
  },
  {
   "cell_type": "code",
   "execution_count": 93,
   "metadata": {},
   "outputs": [],
   "source": [
    "data_pred.to_csv('data1.csv', index=False, columns =['ID','Predicted'])"
   ]
  },
  {
   "cell_type": "markdown",
   "metadata": {},
   "source": [
    "Отрисую важные параметры"
   ]
  },
  {
   "cell_type": "code",
   "execution_count": 94,
   "metadata": {},
   "outputs": [],
   "source": [
    "sns.set(font_scale = 1.5)\n",
    "#xgb.plot_importance(xgb_cl) #тут рисует всё - нечитабельно вообще."
   ]
  },
  {
   "cell_type": "code",
   "execution_count": 95,
   "metadata": {},
   "outputs": [
    {
     "data": {
      "text/plain": [
       "<AxesSubplot:title={'center':'Feature importance'}, xlabel='F score', ylabel='Features'>"
      ]
     },
     "execution_count": 95,
     "metadata": {},
     "output_type": "execute_result"
    },
    {
     "data": {
      "image/png": "[encoded data removed]",
      "text/plain": [
       "<Figure size 432x288 with 1 Axes>"
      ]
     },
     "metadata": {},
     "output_type": "display_data"
    }
   ],
   "source": [
    "xgb.plot_importance(xgb_cl, max_num_features = 10)"
   ]
  },
  {
   "cell_type": "markdown",
   "metadata": {},
   "source": [
    "Веса для классов в DMatrix"
   ]
  },
  {
   "cell_type": "markdown",
   "metadata": {},
   "source": [
    "scale_pos_weight [default=1]\n",
    "Контролировать баланс положительных и отрицательных весов. \n",
    "Типичное значение для рассмотрения: sum(negative instances) / sum(positive instances)\n",
    " \n",
    " У меня многоклассовый, поэтому веса для каждого примера считаю:\n",
    " xgbmodel.fit(X_train, y_train,sample_weight=weights_train)"
   ]
  },
  {
   "cell_type": "markdown",
   "metadata": {},
   "source": [
    "в этой строчке надо добавить веса\n",
    "\n",
    "dtrain_xgb = xgb.DMatrix(x, label=y,weight = *weight array for individual weights*)\n",
    "\n",
    "Их вес будет (деление наименьшего класса на другие)\n"
   ]
  },
  {
   "cell_type": "code",
   "execution_count": 96,
   "metadata": {},
   "outputs": [
    {
     "data": {
      "text/plain": [
       "\"class_weights = list(class_weight.compute_class_weight('balanced',\\n                                             np.unique(train['class']),\\n                                             train['class']))\\n\\nw_array = np.ones(y_train.shape[0], dtype = 'float')\\nfor i, val in enumerate(y_train):\\n    w_array[i] = class_weights[val-1]\\n\""
      ]
     },
     "execution_count": 96,
     "metadata": {},
     "output_type": "execute_result"
    }
   ],
   "source": [
    "# ПИШУ СЧЁТ ВЕСОВ\n",
    "#https://qastack.ru/datascience/16342/unbalanced-multiclass-data-with-xgboost\n",
    "\n",
    "\"\"\"class_weights = list(class_weight.compute_class_weight('balanced',\n",
    "                                             np.unique(train['class']),\n",
    "                                             train['class']))\n",
    "\n",
    "w_array = np.ones(y_train.shape[0], dtype = 'float')\n",
    "for i, val in enumerate(y_train):\n",
    "    w_array[i] = class_weights[val-1]\n",
    "\"\"\"\n",
    "#ЭТО в ****** для всего и части тернировок надо менять будет строчки и тестить\n",
    "######dtrain_xgb = xgb.DMatrix(X, y, sample_weight=w_array)\n",
    "######dtrain_xgb = xgb.DMatrix(train_x, label=train_y, sample_weight=w_array)"
   ]
  },
  {
   "cell_type": "markdown",
   "metadata": {},
   "source": [
    "Идея обучить на всей выборке, не разбивая вообще и на сдачу. ТОГОВАЯ СДАЧА ТАК!!!"
   ]
  },
  {
   "cell_type": "code",
   "execution_count": 97,
   "metadata": {},
   "outputs": [],
   "source": [
    "# Меняю в#******* на строчку\n",
    "#dtrain_xgb = xgb.DMatrix(x, label=y)\n",
    "# ещё в 3-х местах не считаю, тк там нет данных\n",
    "# их пометил так же #*******\n",
    "# Загрузка файла для ответов - отсюда уже нормальные предсказания"
   ]
  },
  {
   "cell_type": "code",
   "execution_count": null,
   "metadata": {},
   "outputs": [],
   "source": []
  }
 ],
 "metadata": {
  "kernelspec": {
   "display_name": "Python 3",
   "language": "python",
   "name": "python3"
  },
  "language_info": {
   "codemirror_mode": {
    "name": "ipython",
    "version": 3
   },
   "file_extension": ".py",
   "mimetype": "text/x-python",
   "name": "python",
   "nbconvert_exporter": "python",
   "pygments_lexer": "ipython3",
   "version": "3.7.9"
  }
 },
 "nbformat": 4,
 "nbformat_minor": 4
}
